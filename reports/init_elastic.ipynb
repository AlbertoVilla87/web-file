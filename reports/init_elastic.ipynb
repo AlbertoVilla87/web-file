{
 "cells": [
  {
   "cell_type": "code",
   "execution_count": 1,
   "metadata": {},
   "outputs": [
    {
     "name": "stdout",
     "output_type": "stream",
     "text": [
      "/Users/A.VILLAMANRIQUE/repositories/web-file\n"
     ]
    }
   ],
   "source": [
    "cd .."
   ]
  },
  {
   "cell_type": "markdown",
   "metadata": {},
   "source": []
  },
  {
   "cell_type": "code",
   "execution_count": 11,
   "metadata": {},
   "outputs": [
    {
     "name": "stderr",
     "output_type": "stream",
     "text": [
      "/Users/A.VILLAMANRIQUE/repositories/web-file/.venv/lib/python3.9/site-packages/tqdm/auto.py:22: TqdmWarning: IProgress not found. Please update jupyter and ipywidgets. See https://ipywidgets.readthedocs.io/en/stable/user_install.html\n",
      "  from .autonotebook import tqdm as notebook_tqdm\n",
      "Unable to find image 'elasticsearch:7.17.6' locally\n",
      "7.17.6: Pulling from library/elasticsearch\n",
      "a749a280e3e9: Pulling fs layer\n",
      "72050ffc35ca: Pulling fs layer\n",
      "47e52584ee03: Pulling fs layer\n",
      "73b52868e110: Pulling fs layer\n",
      "d51844c6f6ab: Pulling fs layer\n",
      "eacd8a3b0316: Pulling fs layer\n",
      "3dfebdff3d8d: Pulling fs layer\n",
      "a666a9c77b42: Pulling fs layer\n",
      "57ed440d6d89: Pulling fs layer\n",
      "eacd8a3b0316: Waiting\n",
      "3dfebdff3d8d: Waiting\n",
      "73b52868e110: Waiting\n",
      "d51844c6f6ab: Waiting\n",
      "a666a9c77b42: Waiting\n",
      "57ed440d6d89: Waiting\n",
      "47e52584ee03: Verifying Checksum\n",
      "47e52584ee03: Download complete\n",
      "72050ffc35ca: Verifying Checksum\n",
      "72050ffc35ca: Download complete\n",
      "d51844c6f6ab: Verifying Checksum\n",
      "d51844c6f6ab: Download complete\n",
      "eacd8a3b0316: Download complete\n",
      "3dfebdff3d8d: Verifying Checksum\n",
      "3dfebdff3d8d: Download complete\n",
      "a666a9c77b42: Verifying Checksum\n",
      "a666a9c77b42: Download complete\n",
      "57ed440d6d89: Verifying Checksum\n",
      "57ed440d6d89: Download complete\n",
      "a749a280e3e9: Verifying Checksum\n",
      "a749a280e3e9: Download complete\n",
      "a749a280e3e9: Pull complete\n",
      "72050ffc35ca: Pull complete\n",
      "47e52584ee03: Pull complete\n",
      "73b52868e110: Verifying Checksum\n",
      "73b52868e110: Download complete\n",
      "73b52868e110: Pull complete\n",
      "d51844c6f6ab: Pull complete\n",
      "eacd8a3b0316: Pull complete\n",
      "3dfebdff3d8d: Pull complete\n",
      "a666a9c77b42: Pull complete\n",
      "57ed440d6d89: Pull complete\n",
      "Digest: sha256:6c128de5d01c0c130a806022d6bd99b3e4c27a9af5bfc33b6b81861ae117d028\n",
      "Status: Downloaded newer image for elasticsearch:7.17.6\n"
     ]
    },
    {
     "name": "stdout",
     "output_type": "stream",
     "text": [
      "2a4e201a24d732aecdd2f698a8cf557170437bb03d80fc7b8b4f2b84316107ae\n"
     ]
    }
   ],
   "source": [
    "from haystack.utils import launch_es\n",
    "launch_es()"
   ]
  },
  {
   "cell_type": "code",
   "execution_count": 10,
   "metadata": {},
   "outputs": [
    {
     "name": "stdout",
     "output_type": "stream",
     "text": [
      "dcc71339cfa06b881d9a8374a4ab4bcf168129cf212c0e8e51ba8b65ede2d25a\n"
     ]
    }
   ],
   "source": [
    "ELASTICSEARCH_CONTAINER_NAME = \"elasticsearch\"\n",
    "OPENSEARCH_CONTAINER_NAME = \"opensearch\"\n",
    "WEAVIATE_CONTAINER_NAME = \"weaviate\"\n",
    "\n",
    "import subprocess\n",
    "\n",
    "status = subprocess.run(\n",
    "        [\n",
    "            f'docker run -d -p 9200:9200 -e \"discovery.type=single-node\" --name {ELASTICSEARCH_CONTAINER_NAME} elasticsearch:8.8.0'\n",
    "        ],\n",
    "        shell=True,\n",
    "    )"
   ]
  },
  {
   "cell_type": "code",
   "execution_count": 9,
   "metadata": {},
   "outputs": [
    {
     "data": {
      "text/plain": [
       "'docker run -d -p 9200:9200 -e \"discovery.type=single-node\" --name elasticsearch elasticsearch:7.17.6'"
      ]
     },
     "execution_count": 9,
     "metadata": {},
     "output_type": "execute_result"
    }
   ],
   "source": [
    "f'docker run -d -p 9200:9200 -e \"discovery.type=single-node\" --name {ELASTICSEARCH_CONTAINER_NAME} elasticsearch:7.17.6'"
   ]
  },
  {
   "cell_type": "code",
   "execution_count": 3,
   "metadata": {},
   "outputs": [
    {
     "name": "stderr",
     "output_type": "stream",
     "text": [
      "/Users/A.VILLAMANRIQUE/repositories/web-file/.venv/lib/python3.9/site-packages/elasticsearch/connection/http_urllib3.py:275: DeprecationWarning: HTTPResponse.getheaders() is deprecated and will be removed in urllib3 v2.1.0. Instead access HTTResponse.headers directly.\n",
      "  return response.status, response.getheaders(), raw_data\n"
     ]
    }
   ],
   "source": [
    "from haystack.document_stores.elasticsearch import ElasticsearchDocumentStore\n",
    "from haystack.nodes.retriever.sparse import BM25Retriever\n",
    "document_store = ElasticsearchDocumentStore(return_embedding=True)\n",
    "es_retriever = BM25Retriever(document_store=document_store)\n"
   ]
  },
  {
   "cell_type": "code",
   "execution_count": 10,
   "metadata": {},
   "outputs": [
    {
     "data": {
      "text/plain": [
       "[<Document: {'content': '@PEspinho A muller is something more than sexist violence!!!', 'content_type': 'text', 'score': 0.8745982028811693, 'meta': {'date': '2013-10-15 11:00:31+00:00', 'tweet': '@PEspinho A muller é algo máis que a violencia machista!!!', 'name': 'Sanchez'}, 'embedding': None, 'id': '1217946dccb94c11d4234f4e06c8b909'}>,\n",
       " <Document: {'content': 'An Emergency Plan against #Gender Violence is urgently needed. Another sexist murder in Vitoria #BastaYa', 'content_type': 'text', 'score': 0.8664822128130882, 'meta': {'date': '2015-04-02 18:14:40+00:00', 'tweet': 'Urge un Plan de Emergencia contra la #ViolenciaDeGénero. Otro asesinato machista en Vitoria #BastaYa', 'name': 'Diaz'}, 'embedding': None, 'id': 'c70ef38417d61cce956c4c2d29adfb6a'}>,\n",
       " <Document: {'content': 'Aspiring to a country free of sexist violence is a democratic obligation. This #25N, against those who deny the existence of specific violence against women, the firm commitment of the Government of Spain to eradicate #MachoViolence.', 'content_type': 'text', 'score': 0.8572349943027785, 'meta': {'date': '2022-11-25 08:06:28+00:00', 'tweet': 'Aspirar a un país libre de violencia machista es una obligación democrática. Este #25N, frente a quienes niegan la existencia de la violencia específica contra las mujeres, el firme compromiso del Gobierno de España para erradicar la #ViolenciaMachista.', 'name': 'Diaz'}, 'embedding': None, 'id': '41fb7d4109767ca1f590df001534fa05'}>,\n",
       " <Document: {'content': 'There is also intrafamily violence, such as when a father kills a son who is beating his mother or a mother commits parricide. Let no one doubt that we will fight against all forms of violence and that we will not take a step back in the fight against sexist violence', 'content_type': 'text', 'score': 0.8565688797072191, 'meta': {'date': '2022-03-17 16:52:55+00:00', 'tweet': 'También existe la violencia intrafamiliar, como cuando un padre mata a un hijo que está pegando a su madre o una madre comete un parricidio. Que nadie dude de que lucharemos contra todas las violencias y que no daremos ni un paso atrás en la lucha contra la violencia machista', 'name': 'Feijo'}, 'embedding': None, 'id': 'f96c37c001d6745152b3a01f97a5d9f6'}>,\n",
       " <Document: {'content': 'Our strong condemnation of the sexist murder that occurred in Benidorm. A #PactoDeEstado against gender violence is urgently needed. #EnoughYa', 'content_type': 'text', 'score': 0.8532547106199072, 'meta': {'date': '2016-04-12 15:51:06+00:00', 'tweet': 'Nuestra enérgica condena por el asesinato machista ocurrido en Benidorm. Urge un #PactoDeEstado contra la violencia de género. #BastaYa', 'name': 'Diaz'}, 'embedding': None, 'id': 'cc3d35bb5c83375d19529796109742bc'}>]"
      ]
     },
     "execution_count": 10,
     "metadata": {},
     "output_type": "execute_result"
    }
   ],
   "source": [
    "query = \"who is the guilty in sexist violence\"\n",
    "docs = es_retriever.retrieve(query=query, top_k=5)\n",
    "docs"
   ]
  },
  {
   "cell_type": "code",
   "execution_count": 14,
   "metadata": {},
   "outputs": [],
   "source": [
    "test = docs[0].to_dict()"
   ]
  },
  {
   "cell_type": "code",
   "execution_count": 15,
   "metadata": {},
   "outputs": [
    {
     "data": {
      "text/plain": [
       "{'date': '2013-10-15 11:00:31+00:00',\n",
       " 'tweet': '@PEspinho A muller é algo máis que a violencia machista!!!',\n",
       " 'name': 'Sanchez'}"
      ]
     },
     "execution_count": 15,
     "metadata": {},
     "output_type": "execute_result"
    }
   ],
   "source": [
    "test[\"meta\"]"
   ]
  },
  {
   "cell_type": "code",
   "execution_count": null,
   "metadata": {},
   "outputs": [],
   "source": []
  }
 ],
 "metadata": {
  "kernelspec": {
   "display_name": "Python 3.9.5 ('.venv': venv)",
   "language": "python",
   "name": "python3"
  },
  "language_info": {
   "codemirror_mode": {
    "name": "ipython",
    "version": 3
   },
   "file_extension": ".py",
   "mimetype": "text/x-python",
   "name": "python",
   "nbconvert_exporter": "python",
   "pygments_lexer": "ipython3",
   "version": "3.9.5"
  },
  "orig_nbformat": 4,
  "vscode": {
   "interpreter": {
    "hash": "12a703c6849bcd9a3e32781fd8b00f684e3490de436bffce5bb5722c3957bbbd"
   }
  }
 },
 "nbformat": 4,
 "nbformat_minor": 2
}
