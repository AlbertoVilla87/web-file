{
 "cells": [
  {
   "cell_type": "code",
   "execution_count": 1,
   "metadata": {},
   "outputs": [
    {
     "name": "stdout",
     "output_type": "stream",
     "text": [
      "/Users/A.VILLAMANRIQUE/repositories/web-file\n"
     ]
    }
   ],
   "source": [
    "cd .."
   ]
  },
  {
   "cell_type": "markdown",
   "metadata": {},
   "source": []
  },
  {
   "cell_type": "code",
   "execution_count": 1,
   "metadata": {},
   "outputs": [
    {
     "name": "stderr",
     "output_type": "stream",
     "text": [
      "/Users/A.VILLAMANRIQUE/repositories/web-file/.venv/lib/python3.9/site-packages/tqdm/auto.py:22: TqdmWarning: IProgress not found. Please update jupyter and ipywidgets. See https://ipywidgets.readthedocs.io/en/stable/user_install.html\n",
      "  from .autonotebook import tqdm as notebook_tqdm\n"
     ]
    }
   ],
   "source": [
    "from haystack.utils import launch_es\n",
    "launch_es()"
   ]
  },
  {
   "cell_type": "code",
   "execution_count": 3,
   "metadata": {},
   "outputs": [
    {
     "name": "stderr",
     "output_type": "stream",
     "text": [
      "/Users/A.VILLAMANRIQUE/repositories/web-file/.venv/lib/python3.9/site-packages/elasticsearch/connection/http_urllib3.py:275: DeprecationWarning: HTTPResponse.getheaders() is deprecated and will be removed in urllib3 v2.1.0. Instead access HTTResponse.headers directly.\n",
      "  return response.status, response.getheaders(), raw_data\n"
     ]
    }
   ],
   "source": [
    "from haystack.document_stores.elasticsearch import ElasticsearchDocumentStore\n",
    "from haystack.nodes.retriever.sparse import BM25Retriever\n",
    "document_store = ElasticsearchDocumentStore(return_embedding=True)\n",
    "es_retriever = BM25Retriever(document_store=document_store)\n"
   ]
  },
  {
   "cell_type": "code",
   "execution_count": 10,
   "metadata": {},
   "outputs": [
    {
     "data": {
      "text/plain": [
       "[<Document: {'content': '@PEspinho A muller is something more than sexist violence!!!', 'content_type': 'text', 'score': 0.8745982028811693, 'meta': {'date': '2013-10-15 11:00:31+00:00', 'tweet': '@PEspinho A muller é algo máis que a violencia machista!!!', 'name': 'Sanchez'}, 'embedding': None, 'id': '1217946dccb94c11d4234f4e06c8b909'}>,\n",
       " <Document: {'content': 'An Emergency Plan against #Gender Violence is urgently needed. Another sexist murder in Vitoria #BastaYa', 'content_type': 'text', 'score': 0.8664822128130882, 'meta': {'date': '2015-04-02 18:14:40+00:00', 'tweet': 'Urge un Plan de Emergencia contra la #ViolenciaDeGénero. Otro asesinato machista en Vitoria #BastaYa', 'name': 'Diaz'}, 'embedding': None, 'id': 'c70ef38417d61cce956c4c2d29adfb6a'}>,\n",
       " <Document: {'content': 'Aspiring to a country free of sexist violence is a democratic obligation. This #25N, against those who deny the existence of specific violence against women, the firm commitment of the Government of Spain to eradicate #MachoViolence.', 'content_type': 'text', 'score': 0.8572349943027785, 'meta': {'date': '2022-11-25 08:06:28+00:00', 'tweet': 'Aspirar a un país libre de violencia machista es una obligación democrática. Este #25N, frente a quienes niegan la existencia de la violencia específica contra las mujeres, el firme compromiso del Gobierno de España para erradicar la #ViolenciaMachista.', 'name': 'Diaz'}, 'embedding': None, 'id': '41fb7d4109767ca1f590df001534fa05'}>,\n",
       " <Document: {'content': 'There is also intrafamily violence, such as when a father kills a son who is beating his mother or a mother commits parricide. Let no one doubt that we will fight against all forms of violence and that we will not take a step back in the fight against sexist violence', 'content_type': 'text', 'score': 0.8565688797072191, 'meta': {'date': '2022-03-17 16:52:55+00:00', 'tweet': 'También existe la violencia intrafamiliar, como cuando un padre mata a un hijo que está pegando a su madre o una madre comete un parricidio. Que nadie dude de que lucharemos contra todas las violencias y que no daremos ni un paso atrás en la lucha contra la violencia machista', 'name': 'Feijo'}, 'embedding': None, 'id': 'f96c37c001d6745152b3a01f97a5d9f6'}>,\n",
       " <Document: {'content': 'Our strong condemnation of the sexist murder that occurred in Benidorm. A #PactoDeEstado against gender violence is urgently needed. #EnoughYa', 'content_type': 'text', 'score': 0.8532547106199072, 'meta': {'date': '2016-04-12 15:51:06+00:00', 'tweet': 'Nuestra enérgica condena por el asesinato machista ocurrido en Benidorm. Urge un #PactoDeEstado contra la violencia de género. #BastaYa', 'name': 'Diaz'}, 'embedding': None, 'id': 'cc3d35bb5c83375d19529796109742bc'}>]"
      ]
     },
     "execution_count": 10,
     "metadata": {},
     "output_type": "execute_result"
    }
   ],
   "source": [
    "query = \"who is the guilty in sexist violence\"\n",
    "docs = es_retriever.retrieve(query=query, top_k=5)\n",
    "docs"
   ]
  },
  {
   "cell_type": "code",
   "execution_count": 14,
   "metadata": {},
   "outputs": [],
   "source": [
    "test = docs[0].to_dict()"
   ]
  },
  {
   "cell_type": "code",
   "execution_count": 15,
   "metadata": {},
   "outputs": [
    {
     "data": {
      "text/plain": [
       "{'date': '2013-10-15 11:00:31+00:00',\n",
       " 'tweet': '@PEspinho A muller é algo máis que a violencia machista!!!',\n",
       " 'name': 'Sanchez'}"
      ]
     },
     "execution_count": 15,
     "metadata": {},
     "output_type": "execute_result"
    }
   ],
   "source": [
    "test[\"meta\"]"
   ]
  },
  {
   "cell_type": "code",
   "execution_count": null,
   "metadata": {},
   "outputs": [],
   "source": []
  }
 ],
 "metadata": {
  "kernelspec": {
   "display_name": "Python 3.9.5 ('.venv': venv)",
   "language": "python",
   "name": "python3"
  },
  "language_info": {
   "codemirror_mode": {
    "name": "ipython",
    "version": 3
   },
   "file_extension": ".py",
   "mimetype": "text/x-python",
   "name": "python",
   "nbconvert_exporter": "python",
   "pygments_lexer": "ipython3",
   "version": "3.9.5"
  },
  "orig_nbformat": 4,
  "vscode": {
   "interpreter": {
    "hash": "12a703c6849bcd9a3e32781fd8b00f684e3490de436bffce5bb5722c3957bbbd"
   }
  }
 },
 "nbformat": 4,
 "nbformat_minor": 2
}
